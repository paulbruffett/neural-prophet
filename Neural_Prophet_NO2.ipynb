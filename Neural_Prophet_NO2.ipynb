{
 "cells": [
  {
   "cell_type": "markdown",
   "metadata": {
    "gradient": {
     "editing": false,
     "id": "6a89d045-8a52-4152-90d1-535151e45aa9",
     "kernelId": "139457ae-3c2a-4f7c-bd96-cd32703cd1f0"
    }
   },
   "source": [
    "## Building load forecasting: Hospital in SF\n",
    "\n",
    "We can train a forecaster on another commom energy problem. In this, case we are training a 1-step ahead forecaster to predict the electricity consumption of a building.\n",
    "\n",
    "The dataset contains one year of hourly observations.\n",
    "The training will occur on 11 months of the data, reserving the last month for evaluation."
   ]
  },
  {
   "cell_type": "code",
   "execution_count": 1,
   "metadata": {
    "gradient": {
     "editing": false,
     "execution_count": 1,
     "id": "134f51dd-e10d-46a9-a82b-294e7483a43b",
     "kernelId": "139457ae-3c2a-4f7c-bd96-cd32703cd1f0"
    }
   },
   "outputs": [
    {
     "name": "stdout",
     "output_type": "stream",
     "text": [
      "\u001b[33mWARNING: Running pip as the 'root' user can result in broken permissions and conflicting behaviour with the system package manager. It is recommended to use a virtual environment instead: https://pip.pypa.io/warnings/venv\u001b[0m\n",
      "\u001b[33mWARNING: Running pip as the 'root' user can result in broken permissions and conflicting behaviour with the system package manager. It is recommended to use a virtual environment instead: https://pip.pypa.io/warnings/venv\u001b[0m\n",
      "\u001b[33mWARNING: Running pip as the 'root' user can result in broken permissions and conflicting behaviour with the system package manager. It is recommended to use a virtual environment instead: https://pip.pypa.io/warnings/venv\u001b[0m\n",
      "\u001b[33mWARNING: Running pip as the 'root' user can result in broken permissions and conflicting behaviour with the system package manager. It is recommended to use a virtual environment instead: https://pip.pypa.io/warnings/venv\u001b[0m\n"
     ]
    }
   ],
   "source": [
    "!pip3 install pandas -q\n",
    "!pip3 install neuralprophet -q\n",
    "!pip3 install livelossplot -q\n",
    "!pip3 install hyperopt -q"
   ]
  },
  {
   "cell_type": "code",
   "execution_count": 2,
   "metadata": {
    "gradient": {
     "editing": false,
     "execution_count": 2,
     "id": "a491a9fe-e799-482e-b0f3-f68e9ed5b9c7",
     "kernelId": "139457ae-3c2a-4f7c-bd96-cd32703cd1f0"
    }
   },
   "outputs": [],
   "source": [
    "import urllib\n",
    "import os\n",
    "import pickle\n",
    "import pandas as pd\n",
    "from neuralprophet import NeuralProphet\n",
    "from zipfile import ZipFile\n",
    "import requests\n",
    "from hyperopt import hp, fmin, tpe, space_eval"
   ]
  },
  {
   "cell_type": "markdown",
   "metadata": {},
   "source": [
    "## Data Collection & Preparation\n",
    "Downloading and loading the data into Pandas Dataframes, then creating a 'ds' and 'y' for Prophet to fit."
   ]
  },
  {
   "cell_type": "code",
   "execution_count": 3,
   "metadata": {
    "gradient": {
     "editing": false,
     "execution_count": 3,
     "id": "652e29a8-82a0-4640-8684-43f216d6df0b",
     "kernelId": "139457ae-3c2a-4f7c-bd96-cd32703cd1f0"
    }
   },
   "outputs": [
    {
     "data": {
      "text/plain": [
       "7959991"
      ]
     },
     "execution_count": 3,
     "metadata": {},
     "output_type": "execute_result"
    }
   ],
   "source": [
    "#download the dataset and save it\n",
    "url = \"https://archive.ics.uci.edu/ml/machine-learning-databases/00501/PRSA2017_Data_20130301-20170228.zip\"\n",
    "r = requests.get(url, allow_redirects=True)\n",
    "\n",
    "open('data.zip', 'wb').write(r.content)"
   ]
  },
  {
   "cell_type": "code",
   "execution_count": 4,
   "metadata": {
    "gradient": {
     "editing": false,
     "execution_count": 4,
     "id": "7fdf44a0-cd69-4701-b4ff-7ec96323f585",
     "kernelId": "139457ae-3c2a-4f7c-bd96-cd32703cd1f0"
    }
   },
   "outputs": [],
   "source": [
    "zip_file = ZipFile('data.zip')\n",
    "files = zip_file.infolist()\n",
    "\n",
    "#read one city into a data frame\n",
    "df_a = pd.read_csv(zip_file.open(files[8].filename))\n",
    "\n",
    "#composite dataframe of all the cities in the dataset\n",
    "df = pd.read_csv(zip_file.open(files[1].filename))\n",
    "for i in files[2:]:\n",
    "    df = pd.concat([df, pd.read_csv(zip_file.open(i.filename))])"
   ]
  },
  {
   "cell_type": "code",
   "execution_count": 5,
   "metadata": {
    "gradient": {
     "execution_count": 5,
     "id": "825faa73-5185-4078-9612-92fa17340312",
     "kernelId": "139457ae-3c2a-4f7c-bd96-cd32703cd1f0"
    }
   },
   "outputs": [
    {
     "data": {
      "text/html": [
       "<div>\n",
       "<style scoped>\n",
       "    .dataframe tbody tr th:only-of-type {\n",
       "        vertical-align: middle;\n",
       "    }\n",
       "\n",
       "    .dataframe tbody tr th {\n",
       "        vertical-align: top;\n",
       "    }\n",
       "\n",
       "    .dataframe thead th {\n",
       "        text-align: right;\n",
       "    }\n",
       "</style>\n",
       "<table border=\"1\" class=\"dataframe\">\n",
       "  <thead>\n",
       "    <tr style=\"text-align: right;\">\n",
       "      <th></th>\n",
       "      <th>No</th>\n",
       "      <th>year</th>\n",
       "      <th>month</th>\n",
       "      <th>day</th>\n",
       "      <th>hour</th>\n",
       "      <th>PM2.5</th>\n",
       "      <th>PM10</th>\n",
       "      <th>SO2</th>\n",
       "      <th>NO2</th>\n",
       "      <th>CO</th>\n",
       "      <th>O3</th>\n",
       "      <th>TEMP</th>\n",
       "      <th>PRES</th>\n",
       "      <th>DEWP</th>\n",
       "      <th>RAIN</th>\n",
       "      <th>wd</th>\n",
       "      <th>WSPM</th>\n",
       "      <th>station</th>\n",
       "    </tr>\n",
       "  </thead>\n",
       "  <tbody>\n",
       "    <tr>\n",
       "      <th>0</th>\n",
       "      <td>1</td>\n",
       "      <td>2013</td>\n",
       "      <td>3</td>\n",
       "      <td>1</td>\n",
       "      <td>0</td>\n",
       "      <td>5.0</td>\n",
       "      <td>14.0</td>\n",
       "      <td>4.0</td>\n",
       "      <td>12.0</td>\n",
       "      <td>200.0</td>\n",
       "      <td>85.0</td>\n",
       "      <td>-0.5</td>\n",
       "      <td>1024.5</td>\n",
       "      <td>-21.4</td>\n",
       "      <td>0.0</td>\n",
       "      <td>NNW</td>\n",
       "      <td>5.7</td>\n",
       "      <td>Nongzhanguan</td>\n",
       "    </tr>\n",
       "    <tr>\n",
       "      <th>1</th>\n",
       "      <td>2</td>\n",
       "      <td>2013</td>\n",
       "      <td>3</td>\n",
       "      <td>1</td>\n",
       "      <td>1</td>\n",
       "      <td>8.0</td>\n",
       "      <td>12.0</td>\n",
       "      <td>6.0</td>\n",
       "      <td>14.0</td>\n",
       "      <td>200.0</td>\n",
       "      <td>84.0</td>\n",
       "      <td>-0.7</td>\n",
       "      <td>1025.1</td>\n",
       "      <td>-22.1</td>\n",
       "      <td>0.0</td>\n",
       "      <td>NW</td>\n",
       "      <td>3.9</td>\n",
       "      <td>Nongzhanguan</td>\n",
       "    </tr>\n",
       "    <tr>\n",
       "      <th>2</th>\n",
       "      <td>3</td>\n",
       "      <td>2013</td>\n",
       "      <td>3</td>\n",
       "      <td>1</td>\n",
       "      <td>2</td>\n",
       "      <td>3.0</td>\n",
       "      <td>6.0</td>\n",
       "      <td>5.0</td>\n",
       "      <td>14.0</td>\n",
       "      <td>200.0</td>\n",
       "      <td>83.0</td>\n",
       "      <td>-1.2</td>\n",
       "      <td>1025.3</td>\n",
       "      <td>-24.6</td>\n",
       "      <td>0.0</td>\n",
       "      <td>NNW</td>\n",
       "      <td>5.3</td>\n",
       "      <td>Nongzhanguan</td>\n",
       "    </tr>\n",
       "    <tr>\n",
       "      <th>3</th>\n",
       "      <td>4</td>\n",
       "      <td>2013</td>\n",
       "      <td>3</td>\n",
       "      <td>1</td>\n",
       "      <td>3</td>\n",
       "      <td>5.0</td>\n",
       "      <td>5.0</td>\n",
       "      <td>5.0</td>\n",
       "      <td>14.0</td>\n",
       "      <td>200.0</td>\n",
       "      <td>84.0</td>\n",
       "      <td>-1.4</td>\n",
       "      <td>1026.2</td>\n",
       "      <td>-25.5</td>\n",
       "      <td>0.0</td>\n",
       "      <td>N</td>\n",
       "      <td>4.9</td>\n",
       "      <td>Nongzhanguan</td>\n",
       "    </tr>\n",
       "    <tr>\n",
       "      <th>4</th>\n",
       "      <td>5</td>\n",
       "      <td>2013</td>\n",
       "      <td>3</td>\n",
       "      <td>1</td>\n",
       "      <td>4</td>\n",
       "      <td>5.0</td>\n",
       "      <td>5.0</td>\n",
       "      <td>6.0</td>\n",
       "      <td>21.0</td>\n",
       "      <td>200.0</td>\n",
       "      <td>77.0</td>\n",
       "      <td>-1.9</td>\n",
       "      <td>1027.1</td>\n",
       "      <td>-24.5</td>\n",
       "      <td>0.0</td>\n",
       "      <td>NNW</td>\n",
       "      <td>3.2</td>\n",
       "      <td>Nongzhanguan</td>\n",
       "    </tr>\n",
       "  </tbody>\n",
       "</table>\n",
       "</div>"
      ],
      "text/plain": [
       "   No  year  month  day  hour  PM2.5  PM10  SO2   NO2     CO    O3  TEMP  \\\n",
       "0   1  2013      3    1     0    5.0  14.0  4.0  12.0  200.0  85.0  -0.5   \n",
       "1   2  2013      3    1     1    8.0  12.0  6.0  14.0  200.0  84.0  -0.7   \n",
       "2   3  2013      3    1     2    3.0   6.0  5.0  14.0  200.0  83.0  -1.2   \n",
       "3   4  2013      3    1     3    5.0   5.0  5.0  14.0  200.0  84.0  -1.4   \n",
       "4   5  2013      3    1     4    5.0   5.0  6.0  21.0  200.0  77.0  -1.9   \n",
       "\n",
       "     PRES  DEWP  RAIN   wd  WSPM       station  \n",
       "0  1024.5 -21.4   0.0  NNW   5.7  Nongzhanguan  \n",
       "1  1025.1 -22.1   0.0   NW   3.9  Nongzhanguan  \n",
       "2  1025.3 -24.6   0.0  NNW   5.3  Nongzhanguan  \n",
       "3  1026.2 -25.5   0.0    N   4.9  Nongzhanguan  \n",
       "4  1027.1 -24.5   0.0  NNW   3.2  Nongzhanguan  "
      ]
     },
     "execution_count": 5,
     "metadata": {},
     "output_type": "execute_result"
    }
   ],
   "source": [
    "df_a.head()"
   ]
  },
  {
   "cell_type": "code",
   "execution_count": 6,
   "metadata": {
    "gradient": {
     "editing": false,
     "execution_count": 6,
     "id": "dfc61223-2cd7-4b22-a763-ad0d56e6123f",
     "kernelId": "139457ae-3c2a-4f7c-bd96-cd32703cd1f0"
    }
   },
   "outputs": [],
   "source": [
    "#prophet wants a 'ds' column with the time, let's create it out of the 4 columns\n",
    "df_a['ds'] = pd.to_datetime(df_a.rename(columns={'Date':'Day'})[['hour','day','month','year']])"
   ]
  },
  {
   "cell_type": "code",
   "execution_count": 7,
   "metadata": {
    "gradient": {
     "editing": false,
     "execution_count": 7,
     "id": "7b8b16b8-d9ac-483b-8a17-1333153f6285",
     "kernelId": "139457ae-3c2a-4f7c-bd96-cd32703cd1f0"
    }
   },
   "outputs": [
    {
     "data": {
      "text/plain": [
       "<AxesSubplot:>"
      ]
     },
     "execution_count": 7,
     "metadata": {},
     "output_type": "execute_result"
    },
    {
     "data": {
      "image/png": "[encoded data removed]",
      "text/plain": [
       "<Figure size 1080x648 with 1 Axes>"
      ]
     },
     "metadata": {
      "needs_background": "light"
     },
     "output_type": "display_data"
    }
   ],
   "source": [
    "#our target has to be named 'y', we want to predict no2\n",
    "df_a = df_a.rename(columns={'NO2':'y'})\n",
    "#a sample of the readings\n",
    "df_a[:1000][\"y\"].plot(figsize=(15,9))"
   ]
  },
  {
   "cell_type": "code",
   "execution_count": 8,
   "metadata": {
    "gradient": {
     "execution_count": 8,
     "id": "cf1a314f-c10f-40af-94fb-9bf4f6e01a17",
     "kernelId": "139457ae-3c2a-4f7c-bd96-cd32703cd1f0"
    }
   },
   "outputs": [
    {
     "data": {
      "text/html": [
       "<div>\n",
       "<style scoped>\n",
       "    .dataframe tbody tr th:only-of-type {\n",
       "        vertical-align: middle;\n",
       "    }\n",
       "\n",
       "    .dataframe tbody tr th {\n",
       "        vertical-align: top;\n",
       "    }\n",
       "\n",
       "    .dataframe thead th {\n",
       "        text-align: right;\n",
       "    }\n",
       "</style>\n",
       "<table border=\"1\" class=\"dataframe\">\n",
       "  <thead>\n",
       "    <tr style=\"text-align: right;\">\n",
       "      <th></th>\n",
       "      <th>No</th>\n",
       "      <th>year</th>\n",
       "      <th>month</th>\n",
       "      <th>day</th>\n",
       "      <th>hour</th>\n",
       "      <th>PM2.5</th>\n",
       "      <th>PM10</th>\n",
       "      <th>SO2</th>\n",
       "      <th>y</th>\n",
       "      <th>CO</th>\n",
       "      <th>O3</th>\n",
       "      <th>TEMP</th>\n",
       "      <th>PRES</th>\n",
       "      <th>DEWP</th>\n",
       "      <th>RAIN</th>\n",
       "      <th>wd</th>\n",
       "      <th>WSPM</th>\n",
       "      <th>station</th>\n",
       "      <th>ds</th>\n",
       "    </tr>\n",
       "  </thead>\n",
       "  <tbody>\n",
       "    <tr>\n",
       "      <th>28</th>\n",
       "      <td>29</td>\n",
       "      <td>2013</td>\n",
       "      <td>3</td>\n",
       "      <td>2</td>\n",
       "      <td>4</td>\n",
       "      <td>3.0</td>\n",
       "      <td>6.0</td>\n",
       "      <td>7.0</td>\n",
       "      <td>NaN</td>\n",
       "      <td>400.0</td>\n",
       "      <td>59.0</td>\n",
       "      <td>-3.1</td>\n",
       "      <td>1032.7</td>\n",
       "      <td>-16.1</td>\n",
       "      <td>0.0</td>\n",
       "      <td>N</td>\n",
       "      <td>0.0</td>\n",
       "      <td>Nongzhanguan</td>\n",
       "      <td>2013-03-02 04:00:00</td>\n",
       "    </tr>\n",
       "    <tr>\n",
       "      <th>124</th>\n",
       "      <td>125</td>\n",
       "      <td>2013</td>\n",
       "      <td>3</td>\n",
       "      <td>6</td>\n",
       "      <td>4</td>\n",
       "      <td>153.0</td>\n",
       "      <td>175.0</td>\n",
       "      <td>87.0</td>\n",
       "      <td>NaN</td>\n",
       "      <td>1899.0</td>\n",
       "      <td>35.0</td>\n",
       "      <td>5.1</td>\n",
       "      <td>1009.5</td>\n",
       "      <td>-6.5</td>\n",
       "      <td>0.0</td>\n",
       "      <td>NE</td>\n",
       "      <td>1.0</td>\n",
       "      <td>Nongzhanguan</td>\n",
       "      <td>2013-03-06 04:00:00</td>\n",
       "    </tr>\n",
       "    <tr>\n",
       "      <th>1084</th>\n",
       "      <td>1085</td>\n",
       "      <td>2013</td>\n",
       "      <td>4</td>\n",
       "      <td>15</td>\n",
       "      <td>4</td>\n",
       "      <td>52.0</td>\n",
       "      <td>155.0</td>\n",
       "      <td>21.0</td>\n",
       "      <td>NaN</td>\n",
       "      <td>1000.0</td>\n",
       "      <td>5.0</td>\n",
       "      <td>5.5</td>\n",
       "      <td>1000.5</td>\n",
       "      <td>-1.7</td>\n",
       "      <td>0.0</td>\n",
       "      <td>ENE</td>\n",
       "      <td>0.6</td>\n",
       "      <td>Nongzhanguan</td>\n",
       "      <td>2013-04-15 04:00:00</td>\n",
       "    </tr>\n",
       "    <tr>\n",
       "      <th>1180</th>\n",
       "      <td>1181</td>\n",
       "      <td>2013</td>\n",
       "      <td>4</td>\n",
       "      <td>19</td>\n",
       "      <td>4</td>\n",
       "      <td>67.0</td>\n",
       "      <td>105.0</td>\n",
       "      <td>39.0</td>\n",
       "      <td>NaN</td>\n",
       "      <td>1100.0</td>\n",
       "      <td>30.0</td>\n",
       "      <td>7.1</td>\n",
       "      <td>1021.0</td>\n",
       "      <td>-4.7</td>\n",
       "      <td>0.0</td>\n",
       "      <td>SE</td>\n",
       "      <td>1.8</td>\n",
       "      <td>Nongzhanguan</td>\n",
       "      <td>2013-04-19 04:00:00</td>\n",
       "    </tr>\n",
       "    <tr>\n",
       "      <th>1276</th>\n",
       "      <td>1277</td>\n",
       "      <td>2013</td>\n",
       "      <td>4</td>\n",
       "      <td>23</td>\n",
       "      <td>4</td>\n",
       "      <td>85.0</td>\n",
       "      <td>101.0</td>\n",
       "      <td>15.0</td>\n",
       "      <td>NaN</td>\n",
       "      <td>800.0</td>\n",
       "      <td>46.0</td>\n",
       "      <td>10.0</td>\n",
       "      <td>1007.0</td>\n",
       "      <td>6.7</td>\n",
       "      <td>0.0</td>\n",
       "      <td>S</td>\n",
       "      <td>2.0</td>\n",
       "      <td>Nongzhanguan</td>\n",
       "      <td>2013-04-23 04:00:00</td>\n",
       "    </tr>\n",
       "    <tr>\n",
       "      <th>...</th>\n",
       "      <td>...</td>\n",
       "      <td>...</td>\n",
       "      <td>...</td>\n",
       "      <td>...</td>\n",
       "      <td>...</td>\n",
       "      <td>...</td>\n",
       "      <td>...</td>\n",
       "      <td>...</td>\n",
       "      <td>...</td>\n",
       "      <td>...</td>\n",
       "      <td>...</td>\n",
       "      <td>...</td>\n",
       "      <td>...</td>\n",
       "      <td>...</td>\n",
       "      <td>...</td>\n",
       "      <td>...</td>\n",
       "      <td>...</td>\n",
       "      <td>...</td>\n",
       "      <td>...</td>\n",
       "    </tr>\n",
       "    <tr>\n",
       "      <th>34959</th>\n",
       "      <td>34960</td>\n",
       "      <td>2017</td>\n",
       "      <td>2</td>\n",
       "      <td>24</td>\n",
       "      <td>15</td>\n",
       "      <td>14.0</td>\n",
       "      <td>29.0</td>\n",
       "      <td>7.0</td>\n",
       "      <td>NaN</td>\n",
       "      <td>400.0</td>\n",
       "      <td>NaN</td>\n",
       "      <td>11.8</td>\n",
       "      <td>1018.8</td>\n",
       "      <td>-13.3</td>\n",
       "      <td>0.0</td>\n",
       "      <td>WSW</td>\n",
       "      <td>1.8</td>\n",
       "      <td>Nongzhanguan</td>\n",
       "      <td>2017-02-24 15:00:00</td>\n",
       "    </tr>\n",
       "    <tr>\n",
       "      <th>34986</th>\n",
       "      <td>34987</td>\n",
       "      <td>2017</td>\n",
       "      <td>2</td>\n",
       "      <td>25</td>\n",
       "      <td>18</td>\n",
       "      <td>NaN</td>\n",
       "      <td>NaN</td>\n",
       "      <td>NaN</td>\n",
       "      <td>NaN</td>\n",
       "      <td>NaN</td>\n",
       "      <td>NaN</td>\n",
       "      <td>11.4</td>\n",
       "      <td>1016.4</td>\n",
       "      <td>-12.1</td>\n",
       "      <td>0.0</td>\n",
       "      <td>NNW</td>\n",
       "      <td>2.6</td>\n",
       "      <td>Nongzhanguan</td>\n",
       "      <td>2017-02-25 18:00:00</td>\n",
       "    </tr>\n",
       "    <tr>\n",
       "      <th>35006</th>\n",
       "      <td>35007</td>\n",
       "      <td>2017</td>\n",
       "      <td>2</td>\n",
       "      <td>26</td>\n",
       "      <td>14</td>\n",
       "      <td>NaN</td>\n",
       "      <td>NaN</td>\n",
       "      <td>NaN</td>\n",
       "      <td>NaN</td>\n",
       "      <td>NaN</td>\n",
       "      <td>NaN</td>\n",
       "      <td>12.4</td>\n",
       "      <td>1018.9</td>\n",
       "      <td>-8.8</td>\n",
       "      <td>0.0</td>\n",
       "      <td>ESE</td>\n",
       "      <td>1.6</td>\n",
       "      <td>Nongzhanguan</td>\n",
       "      <td>2017-02-26 14:00:00</td>\n",
       "    </tr>\n",
       "    <tr>\n",
       "      <th>35026</th>\n",
       "      <td>35027</td>\n",
       "      <td>2017</td>\n",
       "      <td>2</td>\n",
       "      <td>27</td>\n",
       "      <td>10</td>\n",
       "      <td>NaN</td>\n",
       "      <td>NaN</td>\n",
       "      <td>NaN</td>\n",
       "      <td>NaN</td>\n",
       "      <td>NaN</td>\n",
       "      <td>NaN</td>\n",
       "      <td>6.8</td>\n",
       "      <td>1019.3</td>\n",
       "      <td>-5.2</td>\n",
       "      <td>0.0</td>\n",
       "      <td>E</td>\n",
       "      <td>1.9</td>\n",
       "      <td>Nongzhanguan</td>\n",
       "      <td>2017-02-27 10:00:00</td>\n",
       "    </tr>\n",
       "    <tr>\n",
       "      <th>35042</th>\n",
       "      <td>35043</td>\n",
       "      <td>2017</td>\n",
       "      <td>2</td>\n",
       "      <td>28</td>\n",
       "      <td>2</td>\n",
       "      <td>NaN</td>\n",
       "      <td>NaN</td>\n",
       "      <td>NaN</td>\n",
       "      <td>NaN</td>\n",
       "      <td>NaN</td>\n",
       "      <td>NaN</td>\n",
       "      <td>8.6</td>\n",
       "      <td>1016.0</td>\n",
       "      <td>-10.9</td>\n",
       "      <td>0.0</td>\n",
       "      <td>NNE</td>\n",
       "      <td>0.9</td>\n",
       "      <td>Nongzhanguan</td>\n",
       "      <td>2017-02-28 02:00:00</td>\n",
       "    </tr>\n",
       "  </tbody>\n",
       "</table>\n",
       "<p>692 rows × 19 columns</p>\n",
       "</div>"
      ],
      "text/plain": [
       "          No  year  month  day  hour  PM2.5   PM10   SO2   y      CO    O3  \\\n",
       "28        29  2013      3    2     4    3.0    6.0   7.0 NaN   400.0  59.0   \n",
       "124      125  2013      3    6     4  153.0  175.0  87.0 NaN  1899.0  35.0   \n",
       "1084    1085  2013      4   15     4   52.0  155.0  21.0 NaN  1000.0   5.0   \n",
       "1180    1181  2013      4   19     4   67.0  105.0  39.0 NaN  1100.0  30.0   \n",
       "1276    1277  2013      4   23     4   85.0  101.0  15.0 NaN   800.0  46.0   \n",
       "...      ...   ...    ...  ...   ...    ...    ...   ...  ..     ...   ...   \n",
       "34959  34960  2017      2   24    15   14.0   29.0   7.0 NaN   400.0   NaN   \n",
       "34986  34987  2017      2   25    18    NaN    NaN   NaN NaN     NaN   NaN   \n",
       "35006  35007  2017      2   26    14    NaN    NaN   NaN NaN     NaN   NaN   \n",
       "35026  35027  2017      2   27    10    NaN    NaN   NaN NaN     NaN   NaN   \n",
       "35042  35043  2017      2   28     2    NaN    NaN   NaN NaN     NaN   NaN   \n",
       "\n",
       "       TEMP    PRES  DEWP  RAIN   wd  WSPM       station                  ds  \n",
       "28     -3.1  1032.7 -16.1   0.0    N   0.0  Nongzhanguan 2013-03-02 04:00:00  \n",
       "124     5.1  1009.5  -6.5   0.0   NE   1.0  Nongzhanguan 2013-03-06 04:00:00  \n",
       "1084    5.5  1000.5  -1.7   0.0  ENE   0.6  Nongzhanguan 2013-04-15 04:00:00  \n",
       "1180    7.1  1021.0  -4.7   0.0   SE   1.8  Nongzhanguan 2013-04-19 04:00:00  \n",
       "1276   10.0  1007.0   6.7   0.0    S   2.0  Nongzhanguan 2013-04-23 04:00:00  \n",
       "...     ...     ...   ...   ...  ...   ...           ...                 ...  \n",
       "34959  11.8  1018.8 -13.3   0.0  WSW   1.8  Nongzhanguan 2017-02-24 15:00:00  \n",
       "34986  11.4  1016.4 -12.1   0.0  NNW   2.6  Nongzhanguan 2017-02-25 18:00:00  \n",
       "35006  12.4  1018.9  -8.8   0.0  ESE   1.6  Nongzhanguan 2017-02-26 14:00:00  \n",
       "35026   6.8  1019.3  -5.2   0.0    E   1.9  Nongzhanguan 2017-02-27 10:00:00  \n",
       "35042   8.6  1016.0 -10.9   0.0  NNE   0.9  Nongzhanguan 2017-02-28 02:00:00  \n",
       "\n",
       "[692 rows x 19 columns]"
      ]
     },
     "execution_count": 8,
     "metadata": {},
     "output_type": "execute_result"
    }
   ],
   "source": [
    "#this dataset has almost 700 missing values, we don't have to fill these for this model\n",
    "df_a[df_a[\"y\"].isna()]"
   ]
  },
  {
   "cell_type": "markdown",
   "metadata": {},
   "source": [
    "## Fit a basic model\n",
    "This model is very similar to classical prophet."
   ]
  },
  {
   "cell_type": "code",
   "execution_count": null,
   "metadata": {
    "colab": {
     "base_uri": "https://localhost:8080/",
     "height": 148,
     "referenced_widgets": [
      "4ac0917121f8498698e087259b787dcf",
      "94108fe9090f47c7ba2216479e0d3fac",
      "2d8235496ec642af8192f52d9f2692b1",
      "c94a8ae41b994c55a96ad44806b0f1c7",
      "24bf564f55644476911a6cf004a395e7",
      "87c170d1e00742a29e7f797e98c49cc2",
      "8a192ccc35e94e9f8be85898ed583e2c",
      "9467345334da47a8beadc770feef952a",
      "dc468cd35d2b4f0e8eb287689ac15412",
      "f35fc9cbd82c4187a4cdc08c3ac26998",
      "aab682cd3df24821a80331720f7c24e5"
     ]
    },
    "gradient": {
     "editing": false,
     "execution_count": 9,
     "id": "6a9b854f-23db-4548-8089-066b9332cd60",
     "kernelId": "139457ae-3c2a-4f7c-bd96-cd32703cd1f0"
    },
    "id": "s7faUgnrvGFN",
    "outputId": "50da2450-767f-4e3b-f03d-d03226d24ff8"
   },
   "outputs": [
    {
     "data": {
      "image/png": "[encoded data removed]",
      "text/plain": [
       "<Figure size 864x576 with 2 Axes>"
      ]
     },
     "metadata": {
      "needs_background": "light"
     },
     "output_type": "display_data"
    },
    {
     "name": "stderr",
     "output_type": "stream",
     "text": [
      "Epoch[6/77]:   8%|▊         | 6/77 [00:05<01:03,  1.12it/s, SmoothL1Loss=0.0346, MAE=25, RMSE=32.5, RegLoss=0, MAE_val=29.6, RMSE_val=36.8, SmoothL1Loss_val=0.0445]"
     ]
    }
   ],
   "source": [
    "#fit a model\n",
    "m = NeuralProphet(\n",
    "    trend_reg=1,\n",
    "    learning_rate=0.03,\n",
    ")\n",
    "df_train, df_test = m.split_df(df_a[[\"ds\",\"y\"]], freq='H', valid_p = 1.0/12)\n",
    "\n",
    "print(len(df_train), len(df_test))\n",
    "\n",
    "metrics = m.fit(df_train, freq='H', validation_df=df_test, plot_live_loss=True)"
   ]
  },
  {
   "cell_type": "code",
   "execution_count": null,
   "metadata": {
    "colab": {
     "base_uri": "https://localhost:8080/",
     "height": 111
    },
    "gradient": {
     "execution_count": 10,
     "id": "8a27fed5-0006-4cb3-b345-0a333241fd6e",
     "kernelId": "139457ae-3c2a-4f7c-bd96-cd32703cd1f0"
    },
    "id": "OnEPYrkscVtf",
    "outputId": "fe0218f4-0fbe-4d74-86f3-0e74195681a7"
   },
   "outputs": [],
   "source": [
    "metrics.tail(1)"
   ]
  },
  {
   "cell_type": "code",
   "execution_count": null,
   "metadata": {
    "gradient": {
     "execution_count": 11,
     "id": "fab1d0ba-bf79-4e16-b15a-3101f625990f",
     "kernelId": "139457ae-3c2a-4f7c-bd96-cd32703cd1f0"
    },
    "tags": []
   },
   "outputs": [],
   "source": [
    "forecast = m.predict(df_train)\n",
    "fig = m.plot(forecast)"
   ]
  },
  {
   "cell_type": "code",
   "execution_count": null,
   "metadata": {
    "colab": {
     "base_uri": "https://localhost:8080/",
     "height": 440
    },
    "gradient": {
     "execution_count": 12,
     "id": "7954d829-ca05-4553-aaab-a26bfc5ffecc",
     "kernelId": "139457ae-3c2a-4f7c-bd96-cd32703cd1f0"
    },
    "id": "5v-4bpNUvELW",
    "outputId": "089e3649-a238-4ec1-9593-32c2844d0ee4"
   },
   "outputs": [],
   "source": [
    "forecast = m.predict(df_test)\n",
    "m = m.highlight_nth_step_ahead_of_each_forecast(1)\n",
    "fig = m.plot(forecast[-3*30:])"
   ]
  },
  {
   "cell_type": "code",
   "execution_count": null,
   "metadata": {
    "colab": {
     "base_uri": "https://localhost:8080/",
     "height": 1000
    },
    "gradient": {
     "execution_count": 13,
     "id": "d607a5d3-8f1c-4341-ad5c-1b099f2f93b9",
     "kernelId": "139457ae-3c2a-4f7c-bd96-cd32703cd1f0"
    },
    "id": "G0E4dLGxcbsO",
    "outputId": "9590ed3b-6e76-4fdd-d4bf-c310c04ac7ec"
   },
   "outputs": [],
   "source": [
    "#various parameters fit to identify the trend\n",
    "fig_param = m.plot_parameters()"
   ]
  },
  {
   "cell_type": "markdown",
   "metadata": {
    "id": "eG80MrTSeM0r"
   },
   "source": [
    "## 1-step ahead forecast with Auto-Regression\n",
    "We'll train a model that predicts one day's emissions at a time and uses the last 18 readings while doing so."
   ]
  },
  {
   "cell_type": "code",
   "execution_count": null,
   "metadata": {
    "gradient": {
     "execution_count": 14,
     "id": "36ddb0e0-91e4-4ef2-bc28-70a29c6eabb4",
     "kernelId": "139457ae-3c2a-4f7c-bd96-cd32703cd1f0"
    }
   },
   "outputs": [],
   "source": [
    "#model doesn't automatically impute many consecutive missing values\n",
    "df_a[\"y\"] = df_a['y'].fillna(df_a[\"y\"].mean())"
   ]
  },
  {
   "cell_type": "code",
   "execution_count": null,
   "metadata": {
    "colab": {
     "base_uri": "https://localhost:8080/"
    },
    "gradient": {
     "execution_count": 15,
     "id": "c1610e67-a726-436a-b0f2-3e428997a7b2",
     "kernelId": "139457ae-3c2a-4f7c-bd96-cd32703cd1f0"
    },
    "id": "5KIVKB_teK-n",
    "outputId": "c8dc6c51-2257-4f1f-f394-b5b941fb34c0"
   },
   "outputs": [],
   "source": [
    "m = NeuralProphet(\n",
    "    growth='off',\n",
    "    yearly_seasonality=False,\n",
    "    weekly_seasonality=False,\n",
    "    daily_seasonality=False,\n",
    "    n_lags=24,\n",
    "    ar_sparsity=0.95,\n",
    "    learning_rate = 0.003,\n",
    ")\n",
    "\n",
    "df_train, df_test = m.split_df(df_a[[\"ds\",\"y\"]], freq='H', valid_p = 1.0/12)\n",
    "\n",
    "metrics = m.fit(df_train, freq='H', validation_df=df_test, plot_live_loss=True)"
   ]
  },
  {
   "cell_type": "code",
   "execution_count": null,
   "metadata": {
    "colab": {
     "base_uri": "https://localhost:8080/",
     "height": 111
    },
    "gradient": {
     "execution_count": 16,
     "id": "478c5432-03fd-4239-8753-55f03d427363",
     "kernelId": "139457ae-3c2a-4f7c-bd96-cd32703cd1f0"
    },
    "id": "OnEPYrkscVtf",
    "outputId": "fe0218f4-0fbe-4d74-86f3-0e74195681a7"
   },
   "outputs": [],
   "source": [
    "metrics.tail(1)"
   ]
  },
  {
   "cell_type": "code",
   "execution_count": null,
   "metadata": {
    "gradient": {
     "execution_count": 17,
     "id": "65fcc2e6-2317-4593-9704-ff9f998a0ad5",
     "kernelId": "139457ae-3c2a-4f7c-bd96-cd32703cd1f0"
    },
    "tags": []
   },
   "outputs": [],
   "source": [
    "forecast = m.predict(df_train)\n",
    "fig = m.plot(forecast)"
   ]
  },
  {
   "cell_type": "code",
   "execution_count": null,
   "metadata": {
    "colab": {
     "base_uri": "https://localhost:8080/",
     "height": 440
    },
    "gradient": {
     "execution_count": 18,
     "id": "69335e84-bb3b-48c6-8c01-039322db9ffc",
     "kernelId": "139457ae-3c2a-4f7c-bd96-cd32703cd1f0"
    },
    "id": "5v-4bpNUvELW",
    "outputId": "089e3649-a238-4ec1-9593-32c2844d0ee4"
   },
   "outputs": [],
   "source": [
    "forecast = m.predict(df_test)\n",
    "m = m.highlight_nth_step_ahead_of_each_forecast(1)\n",
    "fig = m.plot(forecast[-7*24:])"
   ]
  },
  {
   "cell_type": "code",
   "execution_count": null,
   "metadata": {
    "gradient": {
     "execution_count": 19,
     "id": "a5106f66-4d6a-4f4f-8c19-0102dcda7e41",
     "kernelId": "139457ae-3c2a-4f7c-bd96-cd32703cd1f0"
    }
   },
   "outputs": [],
   "source": [
    "fig_param = m.plot_parameters()"
   ]
  },
  {
   "cell_type": "markdown",
   "metadata": {},
   "source": [
    "## 1-Step ahead forecast with AR-Net: Using a Neural Network\n",
    "Now we will include a neural network to generate predictions"
   ]
  },
  {
   "cell_type": "code",
   "execution_count": null,
   "metadata": {
    "colab": {
     "base_uri": "https://localhost:8080/"
    },
    "gradient": {
     "execution_count": 91,
     "id": "53f100fb-e721-4f00-9295-f7eee4d47a3e",
     "kernelId": "139457ae-3c2a-4f7c-bd96-cd32703cd1f0"
    },
    "id": "-aqM32pCfjEG",
    "outputId": "86bc014e-1e90-48e0-ac25-c9597a0fbcfe"
   },
   "outputs": [],
   "source": [
    "m = NeuralProphet(\n",
    "    growth='off',\n",
    "    yearly_seasonality=False,\n",
    "    weekly_seasonality=False,\n",
    "    daily_seasonality=False,\n",
    "    n_lags=24,\n",
    "    num_hidden_layers=4,\n",
    "    d_hidden=16,\n",
    "    learning_rate=0.003,\n",
    ")\n",
    "\n",
    "metrics = m.fit(df_train, freq='H', validation_df=df_test, plot_live_loss=True)"
   ]
  },
  {
   "cell_type": "code",
   "execution_count": null,
   "metadata": {
    "colab": {
     "base_uri": "https://localhost:8080/",
     "height": 111
    },
    "gradient": {
     "execution_count": 92,
     "id": "767f91c7-07d0-4681-9aee-e96861d4e428",
     "kernelId": "139457ae-3c2a-4f7c-bd96-cd32703cd1f0"
    },
    "id": "OnEPYrkscVtf",
    "outputId": "fe0218f4-0fbe-4d74-86f3-0e74195681a7"
   },
   "outputs": [],
   "source": [
    "metrics.tail(1)"
   ]
  },
  {
   "cell_type": "code",
   "execution_count": null,
   "metadata": {
    "gradient": {
     "execution_count": 93,
     "id": "c2dc7b6a-94be-48e0-a71c-6b62ec7627f9",
     "kernelId": "139457ae-3c2a-4f7c-bd96-cd32703cd1f0"
    },
    "tags": []
   },
   "outputs": [],
   "source": [
    "forecast = m.predict(df_train)\n",
    "fig = m.plot(forecast)"
   ]
  },
  {
   "cell_type": "code",
   "execution_count": null,
   "metadata": {
    "colab": {
     "base_uri": "https://localhost:8080/",
     "height": 440
    },
    "gradient": {
     "execution_count": 94,
     "id": "d5b34254-e350-49d4-ba90-ec1b6ddbd7b5",
     "kernelId": "139457ae-3c2a-4f7c-bd96-cd32703cd1f0"
    },
    "id": "5v-4bpNUvELW",
    "outputId": "089e3649-a238-4ec1-9593-32c2844d0ee4"
   },
   "outputs": [],
   "source": [
    "forecast = m.predict(df_test)\n",
    "m = m.highlight_nth_step_ahead_of_each_forecast(1)\n",
    "fig = m.plot(forecast[-7*24:])"
   ]
  },
  {
   "cell_type": "code",
   "execution_count": null,
   "metadata": {
    "gradient": {
     "execution_count": 95,
     "id": "6ae2195c-0854-4247-813d-e19b0d2ab9ae",
     "kernelId": "139457ae-3c2a-4f7c-bd96-cd32703cd1f0"
    }
   },
   "outputs": [],
   "source": [
    "fig_comp = m.plot_parameters()"
   ]
  },
  {
   "cell_type": "markdown",
   "metadata": {},
   "source": [
    "## 24-Step ahead using a Neural Net\n",
    "We will use the last 3 days of readings to predict 24 hours of measurements at a time"
   ]
  },
  {
   "cell_type": "code",
   "execution_count": null,
   "metadata": {
    "gradient": {
     "id": "6ac5a19a-4c59-415f-9ddc-05d70e5aff6e",
     "kernelId": "139457ae-3c2a-4f7c-bd96-cd32703cd1f0"
    },
    "id": "xp1y3gaBhCdo"
   },
   "outputs": [],
   "source": [
    "m = NeuralProphet(\n",
    "    trend_reg=2,\n",
    "    yearly_seasonality=True,\n",
    "    weekly_seasonality=True,\n",
    "    daily_seasonality=True,\n",
    "    n_lags=24*3,\n",
    "    n_forecasts = 24,\n",
    "    num_hidden_layers=4,\n",
    "    d_hidden=16,\n",
    "    learning_rate=0.003,\n",
    ")\n",
    "\n",
    "metrics = m.fit(df_train, freq='H', validation_df=df_test, plot_live_loss=True)"
   ]
  },
  {
   "cell_type": "code",
   "execution_count": null,
   "metadata": {
    "gradient": {
     "id": "ba5dfbe7-b90b-434f-ba4d-d945fc659e6c",
     "kernelId": "139457ae-3c2a-4f7c-bd96-cd32703cd1f0"
    }
   },
   "outputs": [],
   "source": [
    "metrics.tail(1)"
   ]
  },
  {
   "cell_type": "code",
   "execution_count": null,
   "metadata": {
    "gradient": {
     "id": "18455e12-6b3f-4ed5-9f0e-919a71a6e40a",
     "kernelId": "139457ae-3c2a-4f7c-bd96-cd32703cd1f0"
    }
   },
   "outputs": [],
   "source": [
    "forecast = m.predict(df_train)\n",
    "fig = m.plot(forecast)"
   ]
  },
  {
   "cell_type": "code",
   "execution_count": null,
   "metadata": {
    "gradient": {
     "id": "704579a9-5d37-49eb-8304-c71b98ff98f0",
     "kernelId": "139457ae-3c2a-4f7c-bd96-cd32703cd1f0"
    }
   },
   "outputs": [],
   "source": [
    "forecast = m.predict(df_test)\n",
    "m = m.highlight_nth_step_ahead_of_each_forecast(1)\n",
    "fig = m.plot(forecast[-7*24:])"
   ]
  },
  {
   "cell_type": "code",
   "execution_count": null,
   "metadata": {
    "gradient": {
     "id": "f0d31ea2-2c60-450e-95e1-7e87ecd4646b",
     "kernelId": "139457ae-3c2a-4f7c-bd96-cd32703cd1f0"
    }
   },
   "outputs": [],
   "source": [
    "m = m.highlight_nth_step_ahead_of_each_forecast(1)\n",
    "fig_param = m.plot_parameters()"
   ]
  },
  {
   "cell_type": "markdown",
   "metadata": {},
   "source": [
    "## Making predictions\n",
    "Future dataframe adds the number of future steps specified by the model (in this case 24).\n",
    "Raw returns one array of predictions, rather than a staggered dataframe."
   ]
  },
  {
   "cell_type": "code",
   "execution_count": null,
   "metadata": {},
   "outputs": [],
   "source": [
    "m.predict(m.make_future_dataframe(df_a[['ds','y']]),decompose=False,raw=True)"
   ]
  },
  {
   "cell_type": "markdown",
   "metadata": {
    "gradient": {
     "id": "cb962cf0-9fab-452d-aed8-067d6e381f74",
     "kernelId": "139457ae-3c2a-4f7c-bd96-cd32703cd1f0"
    }
   },
   "source": [
    "## Additional Regressors\n",
    "Providing additional data for the model to include in forecasting"
   ]
  },
  {
   "cell_type": "code",
   "execution_count": null,
   "metadata": {
    "gradient": {
     "id": "a14b0299-8ad1-429c-aa35-6ef4cfa9de87",
     "kernelId": "139457ae-3c2a-4f7c-bd96-cd32703cd1f0"
    }
   },
   "outputs": [],
   "source": [
    "m = NeuralProphet(\n",
    "    growth='on',\n",
    "    yearly_seasonality=True,\n",
    "    weekly_seasonality=True,\n",
    "    daily_seasonality=True,\n",
    "    n_lags=24*3,\n",
    "    n_forecasts = 24,\n",
    "    num_hidden_layers=4,\n",
    "    d_hidden=16,\n",
    "    learning_rate=0.003,\n",
    ")\n",
    "m = m.add_lagged_regressor('WSPM')\n",
    "m = m.add_lagged_regressor('TEMP')\n",
    "\n",
    "df_train_ar, df_test_ar = m.split_df(df_a[[\"ds\",\"y\",\"WSPM\",\"TEMP\"]], freq='H', valid_p = 1.0/12)\n",
    "\n",
    "metrics = m.fit(df_train_ar, freq='H', validation_df=df_test_ar, plot_live_loss=True)"
   ]
  },
  {
   "cell_type": "markdown",
   "metadata": {},
   "source": [
    "## Training all models\n",
    "Prophet can't train using overlapping date ranges, so we can train a model for each city and its emissions and store them, loading the appropriate model for inferencing"
   ]
  },
  {
   "cell_type": "code",
   "execution_count": null,
   "metadata": {},
   "outputs": [],
   "source": [
    "stations = df['station'].unique()\n",
    "df['ds'] = pd.to_datetime(df.rename(columns={'Date':'Day'})[['hour','day','month','year']])\n",
    "df = df.rename(columns={'NO2':'y'})\n",
    "df[\"y\"] = df['y'].fillna(df[\"y\"].mean())\n",
    "\n",
    "if not os.path.exists('models'):\n",
    "    os.makedirs('models')\n",
    "\n",
    "m_s = NeuralProphet(\n",
    "    trend_reg=2,\n",
    "    yearly_seasonality=True,\n",
    "    weekly_seasonality=True,\n",
    "    daily_seasonality=True,\n",
    "    n_lags=24*3,\n",
    "    n_forecasts = 24,\n",
    "    num_hidden_layers=4,\n",
    "    d_hidden=16,\n",
    "    learning_rate=0.003,)\n",
    "\n",
    "for s in stations:\n",
    "    print(s)\n",
    "    df_t = df[df['station']==s]\n",
    "    df_train_t, df_test_t = m_s.split_df(df_t[[\"ds\",\"y\"]], freq='H', valid_p = 1.0/12)\n",
    "    metrics = m_s.fit(df_train_t, freq='H', validation_df=df_test_t, plot_live_loss=False)\n",
    "    with open('models/'+s+'.pkl', \"wb\") as f:\n",
    "        pickle.dump(m_s, f)"
   ]
  },
  {
   "cell_type": "code",
   "execution_count": null,
   "metadata": {},
   "outputs": [],
   "source": [
    "!ls models"
   ]
  },
  {
   "cell_type": "code",
   "execution_count": null,
   "metadata": {},
   "outputs": [],
   "source": [
    "#loading one of the models\n",
    "with open('models/Changping.pkl', \"rb\") as f:\n",
    "    m_x = pickle.load(f)"
   ]
  },
  {
   "cell_type": "code",
   "execution_count": null,
   "metadata": {},
   "outputs": [],
   "source": [
    "#predicting\n",
    "m_x.predict(m_x.make_future_dataframe(df[df['station']=='Changping'][['ds','y']]),decompose=False,raw=True)"
   ]
  },
  {
   "cell_type": "code",
   "execution_count": null,
   "metadata": {},
   "outputs": [],
   "source": []
  }
 ],
 "metadata": {
  "colab": {
   "collapsed_sections": [],
   "name": "energy_data_example.ipynb",
   "provenance": []
  },
  "kernelspec": {
   "display_name": "Python 3 (ipykernel)",
   "language": "python",
   "name": "python3"
  },
  "language_info": {
   "codemirror_mode": {
    "name": "ipython",
    "version": 3
   },
   "file_extension": ".py",
   "mimetype": "text/x-python",
   "name": "python",
   "nbconvert_exporter": "python",
   "pygments_lexer": "ipython3",
   "version": "3.8.12"
  },
  "widgets": {
   "application/vnd.jupyter.widget-state+json": {
    "24bf564f55644476911a6cf004a395e7": {
     "model_module": "@jupyter-widgets/controls",
     "model_name": "HTMLModel",
     "state": {
      "_dom_classes": [],
      "_model_module": "@jupyter-widgets/controls",
      "_model_module_version": "1.5.0",
      "_model_name": "HTMLModel",
      "_view_count": null,
      "_view_module": "@jupyter-widgets/controls",
      "_view_module_version": "1.5.0",
      "_view_name": "HTMLView",
      "description": "",
      "description_tooltip": null,
      "layout": "IPY_MODEL_aab682cd3df24821a80331720f7c24e5",
      "placeholder": "​",
      "style": "IPY_MODEL_f35fc9cbd82c4187a4cdc08c3ac26998",
      "value": " 264/297 [00:04&lt;00:00, 59.93it/s]"
     }
    },
    "2d8235496ec642af8192f52d9f2692b1": {
     "model_module": "@jupyter-widgets/controls",
     "model_name": "HTMLModel",
     "state": {
      "_dom_classes": [],
      "_model_module": "@jupyter-widgets/controls",
      "_model_module_version": "1.5.0",
      "_model_name": "HTMLModel",
      "_view_count": null,
      "_view_module": "@jupyter-widgets/controls",
      "_view_module_version": "1.5.0",
      "_view_name": "HTMLView",
      "description": "",
      "description_tooltip": null,
      "layout": "IPY_MODEL_8a192ccc35e94e9f8be85898ed583e2c",
      "placeholder": "​",
      "style": "IPY_MODEL_87c170d1e00742a29e7f797e98c49cc2",
      "value": " 89%"
     }
    },
    "4ac0917121f8498698e087259b787dcf": {
     "model_module": "@jupyter-widgets/controls",
     "model_name": "HBoxModel",
     "state": {
      "_dom_classes": [],
      "_model_module": "@jupyter-widgets/controls",
      "_model_module_version": "1.5.0",
      "_model_name": "HBoxModel",
      "_view_count": null,
      "_view_module": "@jupyter-widgets/controls",
      "_view_module_version": "1.5.0",
      "_view_name": "HBoxView",
      "box_style": "",
      "children": [
       "IPY_MODEL_2d8235496ec642af8192f52d9f2692b1",
       "IPY_MODEL_c94a8ae41b994c55a96ad44806b0f1c7",
       "IPY_MODEL_24bf564f55644476911a6cf004a395e7"
      ],
      "layout": "IPY_MODEL_94108fe9090f47c7ba2216479e0d3fac"
     }
    },
    "87c170d1e00742a29e7f797e98c49cc2": {
     "model_module": "@jupyter-widgets/controls",
     "model_name": "DescriptionStyleModel",
     "state": {
      "_model_module": "@jupyter-widgets/controls",
      "_model_module_version": "1.5.0",
      "_model_name": "DescriptionStyleModel",
      "_view_count": null,
      "_view_module": "@jupyter-widgets/base",
      "_view_module_version": "1.2.0",
      "_view_name": "StyleView",
      "description_width": ""
     }
    },
    "8a192ccc35e94e9f8be85898ed583e2c": {
     "model_module": "@jupyter-widgets/base",
     "model_name": "LayoutModel",
     "state": {
      "_model_module": "@jupyter-widgets/base",
      "_model_module_version": "1.2.0",
      "_model_name": "LayoutModel",
      "_view_count": null,
      "_view_module": "@jupyter-widgets/base",
      "_view_module_version": "1.2.0",
      "_view_name": "LayoutView",
      "align_content": null,
      "align_items": null,
      "align_self": null,
      "border": null,
      "bottom": null,
      "display": null,
      "flex": null,
      "flex_flow": null,
      "grid_area": null,
      "grid_auto_columns": null,
      "grid_auto_flow": null,
      "grid_auto_rows": null,
      "grid_column": null,
      "grid_gap": null,
      "grid_row": null,
      "grid_template_areas": null,
      "grid_template_columns": null,
      "grid_template_rows": null,
      "height": null,
      "justify_content": null,
      "justify_items": null,
      "left": null,
      "margin": null,
      "max_height": null,
      "max_width": null,
      "min_height": null,
      "min_width": null,
      "object_fit": null,
      "object_position": null,
      "order": null,
      "overflow": null,
      "overflow_x": null,
      "overflow_y": null,
      "padding": null,
      "right": null,
      "top": null,
      "visibility": null,
      "width": null
     }
    },
    "94108fe9090f47c7ba2216479e0d3fac": {
     "model_module": "@jupyter-widgets/base",
     "model_name": "LayoutModel",
     "state": {
      "_model_module": "@jupyter-widgets/base",
      "_model_module_version": "1.2.0",
      "_model_name": "LayoutModel",
      "_view_count": null,
      "_view_module": "@jupyter-widgets/base",
      "_view_module_version": "1.2.0",
      "_view_name": "LayoutView",
      "align_content": null,
      "align_items": null,
      "align_self": null,
      "border": null,
      "bottom": null,
      "display": null,
      "flex": null,
      "flex_flow": null,
      "grid_area": null,
      "grid_auto_columns": null,
      "grid_auto_flow": null,
      "grid_auto_rows": null,
      "grid_column": null,
      "grid_gap": null,
      "grid_row": null,
      "grid_template_areas": null,
      "grid_template_columns": null,
      "grid_template_rows": null,
      "height": null,
      "justify_content": null,
      "justify_items": null,
      "left": null,
      "margin": null,
      "max_height": null,
      "max_width": null,
      "min_height": null,
      "min_width": null,
      "object_fit": null,
      "object_position": null,
      "order": null,
      "overflow": null,
      "overflow_x": null,
      "overflow_y": null,
      "padding": null,
      "right": null,
      "top": null,
      "visibility": null,
      "width": null
     }
    },
    "9467345334da47a8beadc770feef952a": {
     "model_module": "@jupyter-widgets/controls",
     "model_name": "ProgressStyleModel",
     "state": {
      "_model_module": "@jupyter-widgets/controls",
      "_model_module_version": "1.5.0",
      "_model_name": "ProgressStyleModel",
      "_view_count": null,
      "_view_module": "@jupyter-widgets/base",
      "_view_module_version": "1.2.0",
      "_view_name": "StyleView",
      "bar_color": null,
      "description_width": ""
     }
    },
    "aab682cd3df24821a80331720f7c24e5": {
     "model_module": "@jupyter-widgets/base",
     "model_name": "LayoutModel",
     "state": {
      "_model_module": "@jupyter-widgets/base",
      "_model_module_version": "1.2.0",
      "_model_name": "LayoutModel",
      "_view_count": null,
      "_view_module": "@jupyter-widgets/base",
      "_view_module_version": "1.2.0",
      "_view_name": "LayoutView",
      "align_content": null,
      "align_items": null,
      "align_self": null,
      "border": null,
      "bottom": null,
      "display": null,
      "flex": null,
      "flex_flow": null,
      "grid_area": null,
      "grid_auto_columns": null,
      "grid_auto_flow": null,
      "grid_auto_rows": null,
      "grid_column": null,
      "grid_gap": null,
      "grid_row": null,
      "grid_template_areas": null,
      "grid_template_columns": null,
      "grid_template_rows": null,
      "height": null,
      "justify_content": null,
      "justify_items": null,
      "left": null,
      "margin": null,
      "max_height": null,
      "max_width": null,
      "min_height": null,
      "min_width": null,
      "object_fit": null,
      "object_position": null,
      "order": null,
      "overflow": null,
      "overflow_x": null,
      "overflow_y": null,
      "padding": null,
      "right": null,
      "top": null,
      "visibility": null,
      "width": null
     }
    },
    "c94a8ae41b994c55a96ad44806b0f1c7": {
     "model_module": "@jupyter-widgets/controls",
     "model_name": "FloatProgressModel",
     "state": {
      "_dom_classes": [],
      "_model_module": "@jupyter-widgets/controls",
      "_model_module_version": "1.5.0",
      "_model_name": "FloatProgressModel",
      "_view_count": null,
      "_view_module": "@jupyter-widgets/controls",
      "_view_module_version": "1.5.0",
      "_view_name": "ProgressView",
      "bar_style": "danger",
      "description": "",
      "description_tooltip": null,
      "layout": "IPY_MODEL_dc468cd35d2b4f0e8eb287689ac15412",
      "max": 297,
      "min": 0,
      "orientation": "horizontal",
      "style": "IPY_MODEL_9467345334da47a8beadc770feef952a",
      "value": 264
     }
    },
    "dc468cd35d2b4f0e8eb287689ac15412": {
     "model_module": "@jupyter-widgets/base",
     "model_name": "LayoutModel",
     "state": {
      "_model_module": "@jupyter-widgets/base",
      "_model_module_version": "1.2.0",
      "_model_name": "LayoutModel",
      "_view_count": null,
      "_view_module": "@jupyter-widgets/base",
      "_view_module_version": "1.2.0",
      "_view_name": "LayoutView",
      "align_content": null,
      "align_items": null,
      "align_self": null,
      "border": null,
      "bottom": null,
      "display": null,
      "flex": null,
      "flex_flow": null,
      "grid_area": null,
      "grid_auto_columns": null,
      "grid_auto_flow": null,
      "grid_auto_rows": null,
      "grid_column": null,
      "grid_gap": null,
      "grid_row": null,
      "grid_template_areas": null,
      "grid_template_columns": null,
      "grid_template_rows": null,
      "height": null,
      "justify_content": null,
      "justify_items": null,
      "left": null,
      "margin": null,
      "max_height": null,
      "max_width": null,
      "min_height": null,
      "min_width": null,
      "object_fit": null,
      "object_position": null,
      "order": null,
      "overflow": null,
      "overflow_x": null,
      "overflow_y": null,
      "padding": null,
      "right": null,
      "top": null,
      "visibility": null,
      "width": null
     }
    },
    "f35fc9cbd82c4187a4cdc08c3ac26998": {
     "model_module": "@jupyter-widgets/controls",
     "model_name": "DescriptionStyleModel",
     "state": {
      "_model_module": "@jupyter-widgets/controls",
      "_model_module_version": "1.5.0",
      "_model_name": "DescriptionStyleModel",
      "_view_count": null,
      "_view_module": "@jupyter-widgets/base",
      "_view_module_version": "1.2.0",
      "_view_name": "StyleView",
      "description_width": ""
     }
    }
   }
  }
 },
 "nbformat": 4,
 "nbformat_minor": 4
}
